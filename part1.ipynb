{
 "cells": [
  {
   "cell_type": "markdown",
   "metadata": {},
   "source": [
    "Part 1\n",
    "\n",
    "Loading the skeleton given and adding the required codes in the xxx places"
   ]
  },
  {
   "cell_type": "code",
   "execution_count": 1,
   "metadata": {},
   "outputs": [
    {
     "name": "stderr",
     "output_type": "stream",
     "text": [
      "Using TensorFlow backend.\n"
     ]
    }
   ],
   "source": [
    "from keras.models import Model, Sequential\n",
    "from keras.optimizers import Adam\n",
    "from keras.layers import Dense, Dropout, Flatten, Convolution2D, MaxPooling2D\n",
    "from keras.layers import Input, Lambda\n",
    "from keras.utils import np_utils\n",
    "from keras.datasets import mnist\n",
    "from keras import backend as K\n",
    "import numpy as np\n",
    "import matplotlib.pyplot as plt"
   ]
  },
  {
   "cell_type": "code",
   "execution_count": 36,
   "metadata": {},
   "outputs": [],
   "source": [
    "# load and shape data as usual, but here we don't process class labels\n",
    "# to one-hot encoding. In fact, we don't exactly use class labels\n",
    "# during training, only while setting up the triplets.\n",
    "(X_train, y_train), (X_test, y_test) = mnist.load_data()\n",
    "X_train = X_train.reshape(X_train.shape[0], 28, 28, 1)\n",
    "X_test = X_test.reshape(X_test.shape[0], 28, 28, 1)\n",
    "X_train = X_train.astype('float32')\n",
    "X_test = X_test.astype('float32')\n",
    "X_train /= 255\n",
    "X_test /= 255\n"
   ]
  },
  {
   "cell_type": "code",
   "execution_count": 3,
   "metadata": {},
   "outputs": [],
   "source": [
    "def get_image(label, test=False):\n",
    "    \"\"\"Choose an image from our training or test data with the\n",
    "    given label.\"\"\"\n",
    "    if test:\n",
    "        y = y_test; X = X_test\n",
    "    else:\n",
    "        y = y_train; X = X_train\n",
    "    idx = np.random.randint(len(y))\n",
    "    while y[idx] != label:\n",
    "        # keep searching randomly!\n",
    "        idx = np.random.randint(len(y))\n",
    "    return X[idx]"
   ]
  },
  {
   "cell_type": "code",
   "execution_count": 4,
   "metadata": {},
   "outputs": [],
   "source": [
    "def get_triplet(test=False):\n",
    "    \"\"\"Choose a triplet (anchor, positive, negative) of images\n",
    "    such that anchor and positive have the same label and\n",
    "    anchor and negative have different labels.\"\"\"\n",
    "    n = a = np.random.randint(10)\n",
    "    while n == a:\n",
    "        # keep searching randomly!\n",
    "        n = np.random.randint(10)\n",
    "    a, p = get_image(a, test), get_image(a, test)\n",
    "    n = get_image(n, test)\n",
    "    return a, p, n"
   ]
  },
  {
   "cell_type": "code",
   "execution_count": 5,
   "metadata": {},
   "outputs": [],
   "source": [
    "def generate_triplets(test=False):\n",
    "    \"\"\"Generate an un-ending stream (ie a generator) of triplets for\n",
    "    training or test.\"\"\"\n",
    "    while True:\n",
    "        list_a = []\n",
    "        list_p = []\n",
    "        list_n = []\n",
    "\n",
    "        for i in range(batch_size):\n",
    "            a, p, n = get_triplet(test)\n",
    "            list_a.append(a)\n",
    "            list_p.append(p)\n",
    "            list_n.append(n)\n",
    "            \n",
    "        A = np.array(list_a, dtype='float32')\n",
    "        P = np.array(list_p, dtype='float32')\n",
    "        N = np.array(list_n, dtype='float32')\n",
    "        # a \"dummy\" label which will come in to our identity loss\n",
    "        # function below as y_true. We'll ignore it.\n",
    "        label = np.ones(batch_size) \n",
    "        yield [A, P, N], label"
   ]
  },
  {
   "cell_type": "code",
   "execution_count": 6,
   "metadata": {},
   "outputs": [],
   "source": [
    "def identity_loss(y_true, y_pred):\n",
    "    \"\"\"This loss function just takes the mean of y_pred. Because of the\n",
    "    way we wire the network (see complete_model below), y_pred is the\n",
    "    output of the triplet loss, so minimising it is what we want to\n",
    "    do.\"\"\"\n",
    "    return K.mean(y_pred)\n"
   ]
  },
  {
   "cell_type": "code",
   "execution_count": 12,
   "metadata": {},
   "outputs": [],
   "source": [
    "def triplet_loss(x):\n",
    "    \"\"\"The triplet loss is ||A - P|| - ||A - N|| + alpha, where ||.||\n",
    "    is the Euclidean norm. Notice that this is not a loss function in the\n",
    "    format expected by Keras, ie f(y_true, y_pred).\"\"\"\n",
    "    anchor, positive, negative = x\n",
    "    a = 0.2\n",
    "    p=K.sum((anchor - positive),axis=1, keepdims=True) \n",
    "    n=K.sum((anchor - negative),axis=1, keepdims=True)\n",
    "    loss = K.max((p-n + a),0)\n",
    "\n",
    "    # XXX YOUR CODE HERE: CALCULATE loss. USE K.\n",
    "    return loss"
   ]
  },
  {
   "cell_type": "code",
   "execution_count": 8,
   "metadata": {},
   "outputs": [],
   "source": [
    "def embedding_model():\n",
    "    \"\"\"A tiny model similar to the network we used for MNIST\n",
    "    classification. We assume the architecture should be good for\n",
    "    MNIST embedding. Its input is an image and output is an embedding,\n",
    "    not a classification, so the final layer is not a softmax. We\n",
    "    don't compile or add a loss since this will become a component in\n",
    "    the complete model below.\"\"\"\n",
    "    model = Sequential()\n",
    "    model.add(Convolution2D(64, (3, 3), activation='relu', input_shape=(imsize,imsize,1)))\n",
    "    model.add(Convolution2D(64, (3, 3), activation='relu'))\n",
    "    model.add(MaxPooling2D((2,2), strides=(2,2)))\n",
    "    model.add(Dropout(0.25))\n",
    "    model.add(Flatten())\n",
    "    model.add(Dense(128, activation='softmax'))\n",
    "    model.add(Dropout(0.5))\n",
    "    model.add(Dense(10))\n",
    "      \n",
    "\n",
    "    # XXX YOUR CODE HERE: ADD SOME LAYERS ENDING IN AN OUTPUT LAYER\n",
    "    # APPROPRIATE FOR THE EMBEDDING.\n",
    "    return model\n"
   ]
  },
  {
   "cell_type": "code",
   "execution_count": 9,
   "metadata": {},
   "outputs": [],
   "source": [
    "def complete_model(base_model):\n",
    "    \"\"\"This part of the model is quite tricky. Rather than a Sequential\n",
    "    model, we declare a Model and say which are its inputs and\n",
    "    outputs, and we declare how the outputs are calculated from the\n",
    "    inputs. In particular, there are no layers in this model, *other\n",
    "    than* the layers in the embedding model discussed above.\n",
    "\n",
    "    A further complication is that our triplet loss can't be\n",
    "    calculated as a function of y_true and y_predicted as\n",
    "    usual. Instead we calculate the triplet loss as an extra Lambda\n",
    "    layer. Then the Model's loss is set to be equal to the triplet\n",
    "    loss via the identity function.\"\"\"\n",
    "\n",
    "    \n",
    "    input_1 = Input((imsize, imsize, 1))\n",
    "    input_2 = Input((imsize, imsize, 1))\n",
    "    input_3 = Input((imsize, imsize, 1))\n",
    "\n",
    "    # call the base_model three times to get A, P, N\n",
    "\n",
    "    # XXX YOUR CODE HERE.\n",
    "    A = tnn(input_1)\n",
    "    P = tnn(input_2)\n",
    "    N = tnn(input_3)\n",
    "\n",
    "    loss = Lambda(triplet_loss)([A, P, N]) \n",
    "    model = Model(inputs=[input_1, input_2, input_3], outputs=loss)\n",
    "    model.compile(loss=identity_loss, optimizer=Adam(LR))\n",
    "    return model\n"
   ]
  },
  {
   "cell_type": "code",
   "execution_count": 10,
   "metadata": {},
   "outputs": [],
   "source": [
    "############## Settings ###########################\n",
    "\n",
    "imsize = 28\n",
    "\n",
    "# XXX you might like to play with some of these hyperparameters\n",
    "batch_size = 100\n",
    "# 2D is interesting for visualisation, but higher allows more \"space\"\n",
    "# to achieve accuracy in complex domains, eg 128 is common for\n",
    "# faces. but MNIST is simple, so maybe 2 is enough for us anyway.\n",
    "embedding_dim = 2 \n",
    "LR = 0.0001 # be careful: too large will be unstable for our data\n",
    "EPOCHS = 5\n",
    "alpha = 0.2 # interesting to think about different values\n"
   ]
  },
  {
   "cell_type": "code",
   "execution_count": 21,
   "metadata": {},
   "outputs": [
    {
     "name": "stdout",
     "output_type": "stream",
     "text": [
      "__________________________________________________________________________________________________\n",
      "Layer (type)                    Output Shape         Param #     Connected to                     \n",
      "==================================================================================================\n",
      "input_7 (InputLayer)            (None, 28, 28, 1)    0                                            \n",
      "__________________________________________________________________________________________________\n",
      "input_8 (InputLayer)            (None, 28, 28, 1)    0                                            \n",
      "__________________________________________________________________________________________________\n",
      "input_9 (InputLayer)            (None, 28, 28, 1)    0                                            \n",
      "__________________________________________________________________________________________________\n",
      "sequential_3 (Sequential)       (None, 10)           1218634     input_7[0][0]                    \n",
      "                                                                 input_8[0][0]                    \n",
      "                                                                 input_9[0][0]                    \n",
      "__________________________________________________________________________________________________\n",
      "lambda_3 (Lambda)               (1,)                 0           sequential_3[1][0]               \n",
      "                                                                 sequential_3[2][0]               \n",
      "                                                                 sequential_3[3][0]               \n",
      "==================================================================================================\n",
      "Total params: 1,218,634\n",
      "Trainable params: 1,218,634\n",
      "Non-trainable params: 0\n",
      "__________________________________________________________________________________________________\n",
      "None\n",
      "Epoch 1/5\n",
      " - 57s - loss: 0.3109 - val_loss: 0.2207\n",
      "Epoch 2/5\n",
      " - 59s - loss: 0.2874 - val_loss: 0.2172\n",
      "Epoch 3/5\n",
      " - 59s - loss: 0.2447 - val_loss: 0.2056\n",
      "Epoch 4/5\n",
      " - 56s - loss: 0.2165 - val_loss: 0.2017\n",
      "Epoch 5/5\n",
      " - 56s - loss: 0.2049 - val_loss: 0.2004\n"
     ]
    }
   ],
   "source": [
    "############## Main ###############################\n",
    "\n",
    "# create the data generators\n",
    "train_generator = generate_triplets()\n",
    "test_generator = generate_triplets(test=True)\n",
    "\n",
    "# instantiate the model and take a look\n",
    "\n",
    "# XXX YOUR CODE HERE: create the embedding model and then use\n",
    "# that to create the complete model\n",
    "tnn= embedding_model()\n",
    "model= complete_model(tnn)\n",
    "print(model.summary())\n",
    "\n",
    "# fit\n",
    "\n",
    "# XXX YOUR CODE HERE: call fit_generator() to fit the model.\n",
    "tnnfit= model.fit_generator(train_generator,validation_data=test_generator,epochs=EPOCHS,verbose=2,workers=1,steps_per_epoch=30,validation_steps=30,use_multiprocessing=False)"
   ]
  },
  {
   "cell_type": "code",
   "execution_count": 22,
   "metadata": {},
   "outputs": [],
   "source": [
    "################# Visualisation ###################\n",
    "\n",
    "# we add an extra 28 pixels to allow for images whose bottom-left is\n",
    "# at the top or right border\n",
    "canvas_size = 4000\n",
    "canvas = np.zeros((canvas_size+imsize, canvas_size+imsize), dtype=float)\n",
    "\n",
    "def loc2pix(x, size):\n",
    "\n",
    "    \"\"\"All values in x are in [-1, 1], we want it in [0, size].\"\"\"\n",
    "    # add 1 to make it non-negative, squeeze to remove trivial\n",
    "    # dimension and transform.\n",
    "    x = (((1.0 + x.squeeze()) / 2) * size).astype(int)\n",
    "    assert np.all(x >= 0) and np.all(x < size)\n",
    "    return x\n",
    "\n",
    "for ib, batch in enumerate(test_generator):\n",
    "    APN, label = batch\n",
    "    for i in range(batch_size):\n",
    "        \n",
    "        # get the embedding for a, p, n: each should be in [-1, 1]^2\n",
    "        \n",
    "        # XXX YOUR CODE HERE. Set a to be the embedding of APN[0][i:i+1],\n",
    "        # and similarly p for APN[1][i:i+1] and n for APN[2][i:i+1].\n",
    "        # Think about what you need to call.\n",
    "        a = tnn.predict_on_batch(APN[0][i:i+1])\n",
    "        p = tnn.predict_on_batch(APN[1][i:i+1])\n",
    "        n = tnn.predict_on_batch(APN[2][i:i+1])\n",
    "        \n",
    "        # transform a, p, n to pixel-space [0, 4028]^2\n",
    "        a = loc2pix(a, canvas_size)\n",
    "        p = loc2pix(p, canvas_size)\n",
    "        n = loc2pix(n, canvas_size)\n",
    "\n",
    "        # paint the image of each digit onto the canvas\n",
    "        canvas[a[0]:a[0]+imsize, a[1]:a[1]+imsize] = APN[0][i].squeeze()\n",
    "        canvas[p[0]:p[0]+imsize, p[1]:p[1]+imsize] = APN[1][i].squeeze()\n",
    "        canvas[n[0]:n[0]+imsize, n[1]:n[1]+imsize] = APN[2][i].squeeze()\n",
    "        \n",
    "    break # one batch of 100 samples is enough for visualisation\n",
    "\n",
    "fig, ax = plt.subplots(figsize=(40, 40)) # we have to make it large to avoid subsampling\n",
    "ax.matshow(canvas)\n",
    "plt.savefig(\"keras_mnist_triplet_layout.png\")\n",
    "plt.close()\n"
   ]
  },
  {
   "cell_type": "code",
   "execution_count": 23,
   "metadata": {},
   "outputs": [
    {
     "data": {
      "image/png": "[encoded data removed]",
      "text/plain": [
       "<Figure size 432x288 with 1 Axes>"
      ]
     },
     "metadata": {
      "needs_background": "light"
     },
     "output_type": "display_data"
    }
   ],
   "source": [
    "# summarize history for loss\n",
    "plt.xlabel('epoch')\n",
    "plt.ylabel('values')\n",
    "plt.title('tnn model loss over time')\n",
    "plt.plot(tnnfit.history['loss'])\n",
    "plt.plot(tnnfit.history['val_loss'])\n",
    "plt.legend(['loss', 'val_loss'], loc='center right')\n",
    "plt.savefig(\"tnnmodellossovertime.png\")\n",
    "plt.show()"
   ]
  },
  {
   "cell_type": "markdown",
   "metadata": {},
   "source": [
    "The training can be done by splitting the x train into 3 as anchor positive and negative and x test also in same way.\n",
    "The recognition model is built by adding a new class named 11 for all the alphabets and when the given image is not present in any of the 10 classess for the digits, then it is considered to be class 11 and the print that it is not a digit is printed."
   ]
  },
  {
   "cell_type": "code",
   "execution_count": 30,
   "metadata": {},
   "outputs": [],
   "source": [
    "train_generator=list(train_generator)\n",
    "test_generator=list(test_generator)\n",
    "A= train_generator[:,0,:].reshape(-1,28,28,1)\n",
    "P= train_generator[:,1,:].reshape(-1,28,28,1)\n",
    "N= train_generator[:,2,:].reshape(-1,28,28,1)\n",
    "A_test = test_generator[:,0,:].reshape(-1,28,28,1)\n",
    "P_test = test_generator[:,1,:].reshape(-1,28,28,1)\n",
    "N_test = test_generator[:,2,:].reshape(-1,28,28,1)\n",
    "Y= np.empty((Anchor.shape[0],300))\n",
    "Y2 = np.empty((Anchor_test.shape[0],1)\n",
    "model.fit([A,P,N],y=Y,validation_data=([A_test,P_test,N_test],Y2), batch_size=15, epochs=10)\n",
    "i = {}\n",
    "mod= embedding_model() #calling embedding function from Question#1    \n",
    "\n",
    "def imagefolder():\n",
    "    for x in range(10):\n",
    "        a = get_image(i)\n",
    "        a = mod.predict(get_emd.reshape(1, 28, 28, 1))\n",
    "        i[x] = a #storing all the embeddings stored in a dictionary.\n",
    "\n",
    "    return i\n",
    "\n",
    "def recognition_model(base_model):    \n",
    "    input_1 = Input(imsize, imsize, 1)\n",
    "    A = tnn(input_1)\n",
    "    loss = K.max(A,0) \n",
    "    model = Model(inputs=input_1, outputs=loss)\n",
    "    model.compile(loss=identity_loss, optimizer=Adam(LR))\n",
    "    return model\n",
    "\n"
   ]
  },
  {
   "cell_type": "markdown",
   "metadata": {},
   "source": [
    "References\n",
    "https://www.tensorflow.org/tutorials/keras/basic_classification\n",
    "https://medium.com/luisfredgs/reconhecimento-de-escrita-manual-com-redes-neurais-convolucionais-6fca996af39e\n",
    "https://github.com/KinWaiCheuk/Triplet-net-keras/blob/master/Triplet%20NN%20Test%20on%20MNIST.ipynb\n",
    "https://github.com/phongdinhv/triplet-loss-keras-mnist/blob/master/triplet_loss.ipynb\n",
    "https://www.kaggle.com/guichristmann/training-a-triplet-loss-model-on-mnist"
   ]
  }
 ],
 "metadata": {
  "kernelspec": {
   "display_name": "Python 3",
   "language": "python",
   "name": "python3"
  },
  "language_info": {
   "codemirror_mode": {
    "name": "ipython",
    "version": 3
   },
   "file_extension": ".py",
   "mimetype": "text/x-python",
   "name": "python",
   "nbconvert_exporter": "python",
   "pygments_lexer": "ipython3",
   "version": "3.7.0"
  }
 },
 "nbformat": 4,
 "nbformat_minor": 2
}
